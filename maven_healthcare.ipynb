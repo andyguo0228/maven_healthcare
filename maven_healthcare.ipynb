{
 "cells": [
  {
   "cell_type": "markdown",
   "metadata": {},
   "source": [
    "For the Maven Healthcare Challenge, you'll be working as a Data Analyst for the American Hospital Association (AHA), a national organization that represents hospitals and their patients, and acts as a source of information on health care issues and trends.\n",
    "\n",
    "As part of your role, you've been asked to analyze the Hospital Consumer Assessment of Healthcare Providers and Systems (HCAHPS) survey results for the last 9 years. The intent of the HCAHPS initiative is to provide a standardized survey instrument for measuring patients’ perspectives on hospital care, and one of its 3 main goals is to \"create incentives for hospitals to improve their quality of care\".\n",
    "\n",
    "Your task is to evaluate whether the HCAHPS survey has been successful in accomplishing this goal by answering questions like these:\n",
    "\n",
    "Have hospitals' HCAHPS scores improved over the past 9 years?\n",
    "Are there any specific areas where hospitals have made more progress than others?\n",
    "Are there any major areas of opportunity remaining?\n",
    "What recommendations can you make to hospitals to help them further improve the patient experience?\n",
    "\n",
    "\n",
    "HCAHPS Patient Survey\n",
    "National & state-level scores from 2013 to 2022 for the Hospital Consumer Assessment of Healthcare Providers and Systems (HCAHPS) survey, a national, standardized survey of hospital patients about their experiences during a recent inpatient hospital stay.\n",
    "\n",
    "https://mavenanalytics.io/challenges/maven-healthcare-challenge/26"
   ]
  },
  {
   "cell_type": "markdown",
   "metadata": {},
   "source": []
  },
  {
   "cell_type": "markdown",
   "metadata": {},
   "source": []
  },
  {
   "cell_type": "code",
   "execution_count": null,
   "metadata": {},
   "outputs": [],
   "source": []
  }
 ],
 "metadata": {
  "language_info": {
   "name": "python"
  },
  "orig_nbformat": 4
 },
 "nbformat": 4,
 "nbformat_minor": 2
}
